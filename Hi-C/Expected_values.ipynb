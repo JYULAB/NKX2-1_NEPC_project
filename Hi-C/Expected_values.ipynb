{
 "cells": [
  {
   "cell_type": "code",
   "execution_count": 1,
   "id": "6c0491fa",
   "metadata": {
    "collapsed": true
   },
   "outputs": [],
   "source": [
    "import numpy as np\n",
    "import matplotlib.pyplot as plt\n",
    "import pandas as pd\n",
    "import seaborn as sns"
   ]
  },
  {
   "cell_type": "code",
   "execution_count": 2,
   "id": "ef868561",
   "metadata": {
    "collapsed": true
   },
   "outputs": [],
   "source": [
    "import cooler\n",
    "import bioframe\n",
    "\n",
    "import cooltools\n",
    "\n",
    "from packaging import version\n",
    "if version.parse(cooltools.__version__) < version.parse('0.5.2'):\n",
    "    raise AssertionError(\"tutorials rely on cooltools version 0.5.2 or higher,\"+\n",
    "                         \"please check your cooltools version and update to the latest\")"
   ]
  },
  {
   "cell_type": "code",
   "execution_count": 4,
   "id": "89e67075",
   "metadata": {
    "collapsed": true
   },
   "outputs": [],
   "source": [
    "hg38_chromsizes = bioframe.fetch_chromsizes('hg38')\n",
    "hg38_cens = bioframe.fetch_centromeres('hg38')\n",
    "hg38_arms = bioframe.make_chromarms(hg38_chromsizes, hg38_cens) "
   ]
  },
  {
   "cell_type": "code",
   "execution_count": 4,
   "id": "d8dc9b78",
   "metadata": {
    "collapsed": true
   },
   "outputs": [],
   "source": [
    "resolution = 10000"
   ]
  },
  {
   "cell_type": "code",
   "execution_count": 3,
   "id": "1f070032",
   "metadata": {},
   "outputs": [],
   "source": [
    "lucap_35cr_path = \"/projects/b1126/Viriya/hic/lucap/m1398/LuCaP35CR-Arima-allReps-filtered.mcool\"\n",
    "lucap_93_path = \"/projects/b1126/Viriya/hic/lucap/m1399/LuCaP93-Arima-allReps-filtered.mcool\"\n",
    "lucap_145_path = \"/projects/b1126/Viriya/hic/lucap/m1400/LuCaP145.2-Arima-allReps-filtered.mcool\"\n",
    "lucap_147_path = \"/projects/b1126/Viriya/hic/lucap/m1401/LuCaP147-Arima-allReps-filtered.mcool\"\n",
    "nci_path = \"/projects/b1126/Viriya/hic/lucap/m1402/NCI-H660-Arima-allReps-filtered.mcool\""
   ]
  },
  {
   "cell_type": "code",
   "execution_count": 5,
   "id": "a1754f4b",
   "metadata": {
    "collapsed": true
   },
   "outputs": [],
   "source": [
    "lucap35 = cooler.Cooler(f'{lucap_35cr_path}::resolutions/{resolution}')\n",
    "lucap93 = cooler.Cooler(f'{lucap_93_path}::resolutions/{resolution}')\n",
    "lucap145 = cooler.Cooler(f'{lucap_145_path}::resolutions/{resolution}')\n",
    "lucap147 = cooler.Cooler(f'{lucap_147_path}::resolutions/{resolution}')\n",
    "nci = cooler.Cooler(f'{nci_path}::resolutions/{resolution}')"
   ]
  },
  {
   "cell_type": "code",
   "execution_count": 7,
   "id": "a0c11c63",
   "metadata": {
    "collapsed": true
   },
   "outputs": [],
   "source": [
    "expected_lucap35 = cooltools.expected_cis(lucap35, view_df=hg38_arms, nproc=2, chunksize=1_000_000)\n",
    "expected_lucap93 = cooltools.expected_cis(lucap93, view_df=hg38_arms, nproc=2, chunksize=1_000_000)\n",
    "expected_lucap145 = cooltools.expected_cis(lucap145, view_df=hg38_arms, nproc=2, chunksize=1_000_000)\n",
    "expected_lucap147 = cooltools.expected_cis(lucap147, view_df=hg38_arms, nproc=2, chunksize=1_000_000)\n",
    "expected_nci = cooltools.expected_cis(nci, view_df=hg38_arms, nproc=2, chunksize=1_000_000)"
   ]
  },
  {
   "cell_type": "code",
   "execution_count": 9,
   "id": "9ffcdc20",
   "metadata": {},
   "outputs": [],
   "source": [
    "expected_lucap35.to_csv('expected_10kb_lucap35CR.tsv', sep='\\t', index=False, header=True)\n",
    "expected_lucap93.to_csv('expected_10kb_lucap93.tsv', sep='\\t', index=False, header=True)\n",
    "expected_lucap145.to_csv('expected_10kb_lucap145.tsv', sep='\\t', index=False, header=True)\n",
    "expected_lucap147.to_csv('expected_10kb_lucap147.tsv', sep='\\t', index=False, header=True)\n",
    "expected_nci.to_csv('expected_10kb_nci.tsv', sep='\\t', index=False, header=True)"
   ]
  },
  {
   "cell_type": "code",
   "execution_count": null,
   "id": "db62bc4b",
   "metadata": {
    "collapsed": true
   },
   "outputs": [],
   "source": []
  },
  {
   "cell_type": "code",
   "execution_count": 8,
   "id": "2ca06a61",
   "metadata": {},
   "outputs": [],
   "source": [
    "lucap70cr_path = \"/projects/b1126/Viriya/hic/lucap/m1494/LuCaP70CR-Arima-allReps-filtered.mcool\"\n",
    "lucap77cr_path = \"/projects/b1126/Viriya/hic/lucap/m1528/LuCaP77CR-Arima-allReps-filtered.mcool\"\n",
    "lucap1451_path = \"/projects/b1126/Viriya/hic/lucap/m1530/LuCaP145.1-Arima-allReps-filtered.mcool\""
   ]
  },
  {
   "cell_type": "code",
   "execution_count": 15,
   "id": "ddc6b9f1",
   "metadata": {},
   "outputs": [],
   "source": [
    "lucap77cr = cooler.Cooler(f'{lucap77cr_path}::resolutions/{resolution}')\n",
    "lucap70cr = cooler.Cooler(f'{lucap70cr_path}::resolutions/{resolution}')\n",
    "lucap1451 = cooler.Cooler(f'{lucap1451_path}::resolutions/{resolution}')"
   ]
  },
  {
   "cell_type": "code",
   "execution_count": 16,
   "id": "1a1db17d",
   "metadata": {},
   "outputs": [],
   "source": [
    "expected_lucap70cr = cooltools.expected_cis(lucap70cr, view_df=hg38_arms, nproc=2, chunksize=1_000_000)\n",
    "expected_lucap77cr = cooltools.expected_cis(lucap77cr, view_df=hg38_arms, nproc=2, chunksize=1_000_000)\n",
    "expected_lucap1451 = cooltools.expected_cis(lucap1451, view_df=hg38_arms, nproc=2, chunksize=1_000_000)"
   ]
  },
  {
   "cell_type": "code",
   "execution_count": 17,
   "id": "054288ea",
   "metadata": {
    "collapsed": true
   },
   "outputs": [],
   "source": [
    "expected_lucap70cr.to_csv('expected_10kb_lucap70CR.tsv', sep='\\t', index=False, header=True)\n",
    "expected_lucap77cr.to_csv('expected_10kb_lucap77R.tsv', sep='\\t', index=False, header=True)\n",
    "expected_lucap1451.to_csv('expected_10kb_lucap1451.tsv', sep='\\t', index=False, header=True)"
   ]
  },
  {
   "cell_type": "code",
   "execution_count": null,
   "id": "a6f52831",
   "metadata": {
    "collapsed": true
   },
   "outputs": [],
   "source": []
  },
  {
   "cell_type": "code",
   "execution_count": 15,
   "id": "ffb10103",
   "metadata": {
    "collapsed": true
   },
   "outputs": [],
   "source": [
    "lucap862cr_path = \"/projects/b1126/Viriya/hic/lucap/m1566/LuCaP86.2CR-Arima-allReps-filtered.mcool\"\n",
    "lucap105cr_path = \"/projects/b1126/Viriya/hic/lucap/m1567/LuCaP105CR-Arima-allReps-filtered.mcool\"\n",
    "lucap147cr_path = \"/projects/b1126/Viriya/hic/lucap/m1568/LuCaP147CR-Arima-allReps-filtered.mcool\"\n",
    "lucap167cr_path = \"/projects/b1126/Viriya/hic/lucap/m1569/LuCaP167CR-Arima-allReps-filtered.mcool\"\n",
    "lucap1731_path = \"/projects/b1126/Viriya/hic/lucap/m1570/LuCaP173.1-Arima-allReps-filtered.mcool\""
   ]
  },
  {
   "cell_type": "code",
   "execution_count": 24,
   "id": "e50af536",
   "metadata": {},
   "outputs": [],
   "source": [
    "lucap862cr = cooler.Cooler(f'{lucap862cr_path}::resolutions/{resolution}')\n",
    "lucap105cr = cooler.Cooler(f'{lucap105cr_path}::resolutions/{resolution}')\n",
    "lucap147cr = cooler.Cooler(f'{lucap147cr_path}::resolutions/{resolution}')\n",
    "lucap167cr = cooler.Cooler(f'{lucap167cr_path}::resolutions/{resolution}')\n",
    "lucap1731 = cooler.Cooler(f'{lucap1731_path}::resolutions/{resolution}')"
   ]
  },
  {
   "cell_type": "code",
   "execution_count": 25,
   "id": "a5b2cd91",
   "metadata": {
    "collapsed": true
   },
   "outputs": [],
   "source": [
    "expected_lucap862cr = cooltools.expected_cis(lucap862cr, view_df=hg38_arms, nproc=2, chunksize=1_000_000)\n",
    "expected_lucap105cr = cooltools.expected_cis(lucap105cr, view_df=hg38_arms, nproc=2, chunksize=1_000_000)\n",
    "expected_lucap147cr = cooltools.expected_cis(lucap147cr, view_df=hg38_arms, nproc=2, chunksize=1_000_000)\n",
    "expected_lucap167cr = cooltools.expected_cis(lucap167cr, view_df=hg38_arms, nproc=2, chunksize=1_000_000)\n",
    "expected_lucap1731 = cooltools.expected_cis(lucap1731, view_df=hg38_arms, nproc=2, chunksize=1_000_000)"
   ]
  },
  {
   "cell_type": "code",
   "execution_count": 26,
   "id": "48f86c5e",
   "metadata": {
    "collapsed": true
   },
   "outputs": [],
   "source": [
    "expected_lucap862cr.to_csv('expected_10kb_lucap86.2CR.tsv', sep='\\t', index=False, header=True)\n",
    "expected_lucap105cr.to_csv('expected_10kb_lucap105CR.tsv', sep='\\t', index=False, header=True)\n",
    "expected_lucap147cr.to_csv('expected_10kb_lucap147CR.tsv', sep='\\t', index=False, header=True)\n",
    "expected_lucap167cr.to_csv('expected_10kb_lucap167CR.tsv', sep='\\t', index=False, header=True)\n",
    "expected_lucap1731.to_csv('expected_10kb_lucap173.1.tsv', sep='\\t', index=False, header=True)"
   ]
  },
  {
   "cell_type": "code",
   "execution_count": null,
   "id": "1de5bd44",
   "metadata": {
    "collapsed": true
   },
   "outputs": [],
   "source": []
  }
 ],
 "metadata": {
  "kernelspec": {
   "display_name": "3dgenome",
   "language": "python",
   "name": "3dgenome"
  },
  "language_info": {
   "codemirror_mode": {
    "name": "ipython",
    "version": 3
   },
   "file_extension": ".py",
   "mimetype": "text/x-python",
   "name": "python",
   "nbconvert_exporter": "python",
   "pygments_lexer": "ipython3",
   "version": "3.9.15"
  }
 },
 "nbformat": 4,
 "nbformat_minor": 5
}
