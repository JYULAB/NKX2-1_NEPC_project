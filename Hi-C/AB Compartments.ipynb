{
 "cells": [
  {
   "cell_type": "code",
   "execution_count": null,
   "id": "c8b60c71",
   "metadata": {},
   "outputs": [],
   "source": [
    "import cooler\n",
    "import cooltools.lib.plotting\n",
    "import bioframe\n",
    "import cooltools\n",
    "import numpy as np\n",
    "import matplotlib.pyplot as plt\n",
    "import pandas as pd\n",
    "import seaborn as sns"
   ]
  },
  {
   "cell_type": "code",
   "execution_count": null,
   "id": "eefac45c",
   "metadata": {},
   "outputs": [],
   "source": [
    "resolution = 100000"
   ]
  },
  {
   "cell_type": "code",
   "execution_count": null,
   "id": "743f5bf5",
   "metadata": {},
   "outputs": [],
   "source": [
    "lucap_35cr_path = \"../../m1398/LuCaP35CR-Arima-allReps-filtered.mcool\"\n",
    "lucap_147_path = \"../../m1401/LuCaP147-Arima-allReps-filtered.mcool\"\n",
    "lucap_93_path = \"../../m1399/LuCaP93-Arima-allReps-filtered.mcool\"\n",
    "lucap_145_path = \"../../m1400/LuCaP145.2-Arima-allReps-filtered.mcool\"\n",
    "ncih660_path = \"../../m1402/NCI-H660-Arima-allReps-filtered.mcool\""
   ]
  },
  {
   "cell_type": "code",
   "execution_count": null,
   "id": "be692b24",
   "metadata": {},
   "outputs": [],
   "source": [
    "lucap_70cr_path=\"../../m1494/LuCaP70CR-Arima-allReps-filtered.mcool\"\n",
    "lucap_77cr_path=\"../../m1528/LuCaP77CR-Arima-allReps-filtered.mcool\"\n",
    "lucap_1451_path=\"../../m1530/LuCaP145.1-Arima-allReps-filtered.mcool\""
   ]
  },
  {
   "cell_type": "code",
   "execution_count": null,
   "id": "b662fac0",
   "metadata": {},
   "outputs": [],
   "source": [
    "lucap_35cr = cooler.Cooler(f'{lucap_35cr_path}::resolutions/{resolution}')\n",
    "lucap_147 = cooler.Cooler(f'{lucap_147_path}::resolutions/{resolution}')\n",
    "lucap_93 = cooler.Cooler(f'{lucap_93_path}::resolutions/{resolution}')\n",
    "lucap_145 = cooler.Cooler(f'{lucap_145_path}::resolutions/{resolution}')\n",
    "ncih660 = cooler.Cooler(f'{ncih660_path}::resolutions/{resolution}')"
   ]
  },
  {
   "cell_type": "code",
   "execution_count": null,
   "id": "ce824459",
   "metadata": {},
   "outputs": [],
   "source": [
    "lucap_77cr = cooler.Cooler(f'{lucap_77cr_path}::resolutions/{resolution}')\n",
    "lucap_70cr = cooler.Cooler(f'{lucap_70cr_path}::resolutions/{resolution}')\n",
    "lucap_1451 = cooler.Cooler(f'{lucap_1451_path}::resolutions/{resolution}')"
   ]
  },
  {
   "cell_type": "code",
   "execution_count": null,
   "id": "9ce165c3",
   "metadata": {},
   "outputs": [],
   "source": [
    "bins = lucap_77cr.bins()[:]\n",
    "hg38_genome = bioframe.load_fasta('/projects/p20023/Viriya/analysis/foxa2/hi-c/cooltools/hg38.fa');\n",
    "\n",
    "gc_cov = bioframe.frac_gc(bins[['chrom', 'start', 'end']], hg38_genome)\n",
    "display(gc_cov)"
   ]
  },
  {
   "cell_type": "code",
   "execution_count": null,
   "id": "4d5b619e",
   "metadata": {},
   "outputs": [],
   "source": [
    "lucap_35cr_cis_eigs = cooltools.eigs_cis(\n",
    "                        lucap_35cr,\n",
    "                        gc_cov,\n",
    "                        n_eigs=3,\n",
    "                        )\n",
    "lucap_35cr_eigenvector_track = lucap_35cr_cis_eigs[1][['chrom','start','end','E1']]\n",
    "lucap_35cr_eigenvector_track.dropna().to_csv('results_100kb/LuCaP35CR_eigenvector.tsv', sep='\\t', index=False, header=False)"
   ]
  },
  {
   "cell_type": "code",
   "execution_count": null,
   "id": "fa23d88e",
   "metadata": {},
   "outputs": [],
   "source": [
    "lucap_93_cis_eigs = cooltools.eigs_cis(\n",
    "                        lucap_93,\n",
    "                        gc_cov,\n",
    "                        n_eigs=3,\n",
    "                        )\n",
    "lucap_93_eigenvector_track = lucap_93_cis_eigs[1][['chrom','start','end','E1']]\n",
    "lucap_93_eigenvector_track.dropna().to_csv('results_100kb/LuCaP93_eigenvector.tsv', sep='\\t', index=False, header=False)"
   ]
  },
  {
   "cell_type": "code",
   "execution_count": null,
   "id": "534bcc9f",
   "metadata": {},
   "outputs": [],
   "source": [
    "lucap_147_cis_eigs = cooltools.eigs_cis(\n",
    "                        lucap_147,\n",
    "                        gc_cov,\n",
    "                        n_eigs=3,\n",
    "                        )\n",
    "lucap_147_eigenvector_track = lucap_147_cis_eigs[1][['chrom','start','end','E1']]\n",
    "lucap_147_eigenvector_track.dropna().to_csv('results_100kb/LuCaP147_eigenvector.tsv', sep='\\t', index=False, header=False)"
   ]
  },
  {
   "cell_type": "code",
   "execution_count": null,
   "id": "ca7120f4",
   "metadata": {},
   "outputs": [],
   "source": [
    "lucap_145_cis_eigs = cooltools.eigs_cis(\n",
    "                        lucap_145,\n",
    "                        gc_cov,\n",
    "                        n_eigs=3,\n",
    "                        )\n",
    "lucap_145_eigenvector_track = lucap_145_cis_eigs[1][['chrom','start','end','E1']]\n",
    "lucap_145_eigenvector_track.dropna().to_csv('results_100kb/LuCaP145_eigenvector.tsv', sep='\\t', index=False, header=False)"
   ]
  },
  {
   "cell_type": "code",
   "execution_count": null,
   "id": "e905d381",
   "metadata": {},
   "outputs": [],
   "source": [
    "ncih660_cis_eigs = cooltools.eigs_cis(\n",
    "                        ncih660,\n",
    "                        gc_cov,\n",
    "                        n_eigs=3,\n",
    "                        )\n",
    "ncih660_eigenvector_track = ncih660_cis_eigs[1][['chrom','start','end','E1']]\n",
    "ncih660_eigenvector_track.dropna().to_csv('results_100kb/NCI-H660_eigenvector.tsv', sep='\\t', index=False, header=False)"
   ]
  },
  {
   "cell_type": "code",
   "execution_count": null,
   "id": "cafa2fe9",
   "metadata": {},
   "outputs": [],
   "source": [
    "lucap_70cr_cis_eigs = cooltools.eigs_cis(\n",
    "                        lucap_70cr,\n",
    "                        gc_cov,\n",
    "                        n_eigs=3,\n",
    "                        )\n",
    "lucap_70cr_eigenvector_track = lucap_70cr_cis_eigs[1][['chrom','start','end','E1']]\n",
    "lucap_70cr_eigenvector_track.dropna().to_csv('results_100kb/LuCaP70CR_eigenvector.tsv', sep='\\t', index=False, header=False)"
   ]
  },
  {
   "cell_type": "code",
   "execution_count": null,
   "id": "1836dbb4",
   "metadata": {},
   "outputs": [],
   "source": [
    "lucap_77cr_cis_eigs = cooltools.eigs_cis(\n",
    "                        lucap_77cr,\n",
    "                        gc_cov,\n",
    "                        n_eigs=3,\n",
    "                        )\n",
    "lucap_77cr_eigenvector_track = lucap_77cr_cis_eigs[1][['chrom','start','end','E1']]\n",
    "lucap_77cr_eigenvector_track.dropna().to_csv('results_100kb/LuCaP77CR_eigenvector.tsv', sep='\\t', index=False, header=False)"
   ]
  },
  {
   "cell_type": "code",
   "execution_count": null,
   "id": "95134c1c",
   "metadata": {},
   "outputs": [],
   "source": [
    "lucap_1451_cis_eigs = cooltools.eigs_cis(\n",
    "                        lucap_1451,\n",
    "                        gc_cov,\n",
    "                        n_eigs=3,\n",
    "                        )\n",
    "lucap_1451_eigenvector_track = lucap_1451_cis_eigs[1][['chrom','start','end','E1']]\n",
    "lucap_1451_eigenvector_track.dropna().to_csv('results_100kb/LuCaP145.1_eigenvector.tsv', sep='\\t', index=False, header=False)"
   ]
  },
  {
   "cell_type": "code",
   "execution_count": null,
   "id": "a4acdb6c",
   "metadata": {},
   "outputs": [],
   "source": []
  },
  {
   "cell_type": "code",
   "execution_count": null,
   "id": "0e814917",
   "metadata": {},
   "outputs": [],
   "source": [
    "lucap862cr_path = \"/projects/b1126/Viriya/hic/lucap/m1566/LuCaP86.2CR-Arima-allReps-filtered.mcool\"\n",
    "lucap105cr_path = \"/projects/b1126/Viriya/hic/lucap/m1567/LuCaP105CR-Arima-allReps-filtered.mcool\"\n",
    "lucap147cr_path = \"/projects/b1126/Viriya/hic/lucap/m1568/LuCaP147CR-Arima-allReps-filtered.mcool\"\n",
    "lucap167cr_path = \"/projects/b1126/Viriya/hic/lucap/m1569/LuCaP167CR-Arima-allReps-filtered.mcool\"\n",
    "lucap1731_path = \"/projects/b1126/Viriya/hic/lucap/m1570/LuCaP173.1-Arima-allReps-filtered.mcool\""
   ]
  },
  {
   "cell_type": "code",
   "execution_count": null,
   "id": "e722d0ac",
   "metadata": {},
   "outputs": [],
   "source": [
    "lucap862cr = cooler.Cooler(f'{lucap862cr_path}::resolutions/{resolution}')\n",
    "lucap105cr = cooler.Cooler(f'{lucap105cr_path}::resolutions/{resolution}')\n",
    "lucap147cr = cooler.Cooler(f'{lucap147cr_path}::resolutions/{resolution}')\n",
    "lucap167cr = cooler.Cooler(f'{lucap167cr_path}::resolutions/{resolution}')\n",
    "lucap1731 = cooler.Cooler(f'{lucap1731_path}::resolutions/{resolution}')"
   ]
  },
  {
   "cell_type": "code",
   "execution_count": null,
   "id": "b75ba4d1",
   "metadata": {},
   "outputs": [],
   "source": [
    "bins = lucap147cr.bins()[:]\n",
    "hg38_genome = bioframe.load_fasta('/projects/p20023/Viriya/analysis/foxa2/hi-c/cooltools/hg38.fa');\n",
    "\n",
    "gc_cov = bioframe.frac_gc(bins[['chrom', 'start', 'end']], hg38_genome)\n",
    "display(gc_cov)"
   ]
  },
  {
   "cell_type": "code",
   "execution_count": null,
   "id": "42da49bb",
   "metadata": {},
   "outputs": [],
   "source": [
    "lucap862cr_cis_eigs = cooltools.eigs_cis(\n",
    "                        lucap862cr,\n",
    "                        gc_cov,\n",
    "                        n_eigs=3,\n",
    "                        )\n",
    "lucap862cr_eigenvector_track = lucap862cr_cis_eigs[1][['chrom','start','end','E1']]\n",
    "lucap862cr_eigenvector_track.dropna().to_csv('results_100kb/LuCaP86.2CR_eigenvector.tsv', sep='\\t', index=False, header=False)"
   ]
  },
  {
   "cell_type": "code",
   "execution_count": null,
   "id": "a1d1f0bd",
   "metadata": {},
   "outputs": [],
   "source": [
    "lucap105cr_cis_eigs = cooltools.eigs_cis(\n",
    "                        lucap105cr,\n",
    "                        gc_cov,\n",
    "                        n_eigs=3,\n",
    "                        )\n",
    "lucap105cr_eigenvector_track = lucap105cr_cis_eigs[1][['chrom','start','end','E1']]\n",
    "lucap105cr_eigenvector_track.dropna().to_csv('results_100kb/LuCaP105CR_eigenvector.tsv', sep='\\t', index=False, header=False)"
   ]
  },
  {
   "cell_type": "code",
   "execution_count": null,
   "id": "47604886",
   "metadata": {},
   "outputs": [],
   "source": [
    "lucap147cr_cis_eigs = cooltools.eigs_cis(\n",
    "                        lucap147cr,\n",
    "                        gc_cov,\n",
    "                        n_eigs=3,\n",
    "                        )\n",
    "lucap147cr_eigenvector_track = lucap147cr_cis_eigs[1][['chrom','start','end','E1']]\n",
    "lucap147cr_eigenvector_track.dropna().to_csv('results_100kb/LuCaP147CR_eigenvector.tsv', sep='\\t', index=False, header=False)"
   ]
  },
  {
   "cell_type": "code",
   "execution_count": null,
   "id": "30496717",
   "metadata": {},
   "outputs": [],
   "source": [
    "lucap167cr_cis_eigs = cooltools.eigs_cis(\n",
    "                        lucap167cr,\n",
    "                        gc_cov,\n",
    "                        n_eigs=3,\n",
    "                        )\n",
    "lucap167cr_eigenvector_track = lucap167cr_cis_eigs[1][['chrom','start','end','E1']]\n",
    "lucap167cr_eigenvector_track.dropna().to_csv('results_100kb/LuCaP167CR_eigenvector.tsv', sep='\\t', index=False, header=False)"
   ]
  },
  {
   "cell_type": "code",
   "execution_count": null,
   "id": "ba75374e",
   "metadata": {},
   "outputs": [],
   "source": [
    "lucap1731_cis_eigs = cooltools.eigs_cis(\n",
    "                        lucap1731,\n",
    "                        gc_cov,\n",
    "                        n_eigs=3,\n",
    "                        )\n",
    "lucap1731_eigenvector_track = lucap1731_cis_eigs[1][['chrom','start','end','E1']]\n",
    "lucap1731_eigenvector_track.dropna().to_csv('results_100kb/LuCaP173.1_eigenvector.tsv', sep='\\t', index=False, header=False)"
   ]
  },
  {
   "cell_type": "code",
   "execution_count": null,
   "id": "a8fb29da",
   "metadata": {},
   "outputs": [],
   "source": []
  }
 ],
 "metadata": {
  "kernelspec": {
   "display_name": "3dgenome",
   "language": "python",
   "name": "3dgenome"
  },
  "language_info": {
   "codemirror_mode": {
    "name": "ipython",
    "version": 3
   },
   "file_extension": ".py",
   "mimetype": "text/x-python",
   "name": "python",
   "nbconvert_exporter": "python",
   "pygments_lexer": "ipython3",
   "version": "3.9.15"
  }
 },
 "nbformat": 4,
 "nbformat_minor": 5
}
